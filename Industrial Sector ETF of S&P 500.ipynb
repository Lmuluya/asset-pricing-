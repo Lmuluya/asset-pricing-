{
 "cells": [
  {
   "cell_type": "code",
   "execution_count": null,
   "metadata": {},
   "outputs": [],
   "source": [
    "# Energy and Industrial Sector ETF of S&P 500"
   ]
  },
  {
   "cell_type": "code",
   "execution_count": null,
   "metadata": {},
   "outputs": [],
   "source": [
    "## Introduction\n",
    "\n",
    "The S&P 500 index is comprised of 500 large1 U.S. public companies traded on an eligible U.S. stock exchange. Its objective is to measure the performance of the large-cap U.S. equity market. These 500 companies are classified into 11 sectors:\n",
    "* Energy\n",
    "* Materials\n",
    "* Industrials\n",
    "* Consumer discretionary\n",
    "* Consumer staples\n",
    "* Health care\n",
    "* Financials\n",
    "* Information technology\n",
    "* Communication services\n",
    "* Utilities\n",
    "* Real estate\n",
    "\n",
    "State Street Global Advisors and Merrill Lynch created and manage 11 exchange-traded funds (ETFs) that are indexed to these 11 sectors of the S&P 500.\n",
    "\n",
    "This group of 11 ETFs are known as the SPDR (pronounced “spider”) family of funds."
   ]
  },
  {
   "cell_type": "code",
   "execution_count": null,
   "metadata": {},
   "outputs": [],
   "source": [
    "In this notebook, we will be working with the energy and industrials sector, represented by XLE and XLI. For each of these sectors:\n",
    "(a) Calculate the expected return in the upcoming year. Use the Capital Asset Pricing Model and the following information:\n",
    "\n",
    "| Sector | $\\beta$ |\n",
    "|--|--|\n",
    "| XLE | 1.07 |\n",
    "| XLI | 1.06 |\n",
    "\n",
    "* Risk-free rate of return ($𝑅_𝑓$): 2.25%\n",
    "* Market return ($𝑅_𝑚$): 9%\n",
    "* Market standard deviation ($\\sigma_m$): 15%"
   ]
  },
  {
   "cell_type": "markdown",
   "metadata": {},
   "source": [
    "## a) Calculating the expected return in the upcoming year. Use the Capital Asset Pricing Model and the following information\n",
    "\n",
    "### Expected Return\n",
    "\n",
    "The expected return is the profit or loss an investor anticipates on an investment that has known or anticipated rates\n",
    "of return (RoR). It is calculated by multiplying potential outcomes by the chances of them occurring and then totaling\n",
    "these results.\n",
    "\n",
    "The expected return is a tool used to determine whether an investment has a positive or negative average net outcome. \n",
    "The sum is calculated as the expected value (EV) of an investment given its potential returns in different scenarios, \n",
    "as illustrated by the following formula:\n",
    "    \n",
    "$$Expected Return = SUM(Return_i * Probability_i)$$\n",
    "\n",
    "where:$i$ indicates each known return and its respective probability in the series\n",
    "\n",
    "The expected return is the amount of profit or loss an investor can anticipate receiving on an investment.\n",
    "\n",
    "An expected return is calculated by multiplying potential outcomes by the odds of them occurring and then totaling\n",
    "these results.\n",
    "\n",
    "Essentially a long-term weighted average of historical results, expected returns are not guaranteed.\n",
    "\n",
    "### Limitations of expected return\n",
    "\n",
    "It is quite dangerous to make investment decisions based on expected returns alone. Before making any buying decisions,\n",
    "investors should always review the risk characteristics of investment opportunities to determine if the investments align\n",
    "with their portfolio goals.\n",
    "\n",
    "### Capital Asset Pricing Model\n",
    "\n",
    "The Capital Asset Pricing Model (CAPM) describes the relationship between systematic risk and expected return for assets,\n",
    "particularly stocks. CAPM is widely used throughout finance for pricing risky securities and generating expected returns \n",
    "for assets given the risk of those assets and cost of capital.\n",
    "\n",
    "The formula for calculating the expected return of an asset given its risk is as follows:\n",
    "\n",
    "$$ER_f = R_f + β_i(E(R_m) - R_f)$$\n",
    "\n",
    "Investors expect to be compensated for risk and the time value of money. The risk-free rate in the CAPM formula accounts \n",
    "for the time value of money. The other components of the CAPM formula account for the investor taking on additional risk.\n",
    "\n",
    "The beta of a potential investment is a measure of how much risk the investment will add to a portfolio that looks like the\n",
    "market. If a stock is riskier than the market, it will have a beta greater than one. If a stock has a beta of less than one,\n",
    "the formula assumes it will reduce the risk of a portfolio.\n",
    "\n",
    "A stock’s beta is then multiplied by the market risk premium, which is the return expected from the market above the \n",
    "risk-free rate. The risk-free rate is then added to the product of the stock’s beta and the market risk premium. \n",
    "The result should give an investor the required return or discount rate they can use to find the value of an asset.\n",
    "\n",
    "The goal of the CAPM formula is to evaluate whether a stock is fairly valued when its risk and the time value of money are \n",
    "compared to its expected return.\n",
    "\n",
    "The CAPM uses the principles of Modern Portfolio Theory to determine if a security is fairly valued. It relies on \n",
    "assumptions about investor behaviors, risk and return distributions, and market fundamentals that don’t match reality. \n",
    "\n",
    "However, the underlying concepts of CAPM and the associated efficient frontier can help investors understand the \n",
    "relationship between expected risk and reward as they make better decisions about adding securities to a portfolio."
   ]
  },
  {
   "cell_type": "code",
   "execution_count": 20,
   "metadata": {},
   "outputs": [],
   "source": [
    "# Translating the inputs in the problem statements to code\n",
    "beta_XLE = 1.07\n",
    "beta_XLI = 1.06\n",
    "rf = 2.25\n",
    "Rm = 9 \n",
    "sigma_market = 15"
   ]
  },
  {
   "cell_type": "markdown",
   "metadata": {},
   "source": [
    "## CAPM model\n",
    "\n",
    "According to the CAPM model, the expected return of the portfolio follows the equation:\n",
    "$$ E(R_p) = r_f + \\beta(E(R_m)-r_f) $$\n",
    "where,<br>\n",
    "$R_p$: Portfolio Return<br>\n",
    "$r_f$: Risk-free rate of Return<br>\n",
    "$R_m$: Market Rate of Return<br>\n",
    "$\\beta$: Portfolio beta, or exposure<br>\n",
    "$E(.)$: Expected value function<br>"
   ]
  },
  {
   "cell_type": "code",
   "execution_count": 21,
   "metadata": {},
   "outputs": [],
   "source": [
    "def expected_return_capm(rf, beta, Rm):\n",
    "    return rf+beta*(Rm-rf)"
   ]
  },
  {
   "cell_type": "code",
   "execution_count": 22,
   "metadata": {},
   "outputs": [
    {
     "name": "stdout",
     "output_type": "stream",
     "text": [
      "Expected Return for XLE : 9.47 %\n",
      "Expected Return for XLI : 9.41 %\n"
     ]
    }
   ],
   "source": [
    "expected_return_XLE = expected_return_capm(rf, beta_XLE, Rm)\n",
    "expected_return_XLI = expected_return_capm(rf, beta_XLI, Rm)\n",
    "\n",
    "print(\"Expected Return for XLE :\",round(expected_return_XLE,2), \"%\")\n",
    "print(\"Expected Return for XLI :\",round(expected_return_XLI,2), \"%\")"
   ]
  },
  {
   "cell_type": "markdown",
   "metadata": {},
   "source": [
    "## b) Calculate the daily and annualized standard deviation of returns for the prior year. Use the MS Excel spreadsheet provided titled “GWP_PTAP_Data.xlsx”. When annualizing daily standard deviation, assume there are 252 trading days in a year."
   ]
  },
  {
   "cell_type": "markdown",
   "metadata": {},
   "source": [
    "### Standard Deviation\n",
    "The standard deviation is a statistic that measures the dispersion of a dataset relative to its mean and is calculated \n",
    "as the square root of the variance. It is calculated as the square root of variance by determining the variation between \n",
    "each data point relative to the mean. If the data points are further from the mean, there is a higher deviation within the\n",
    "data set; thus, the more spread out the data, the higher the standard deviation.\n",
    "\n",
    "A volatile stock has a high standard deviation, while the deviation of a stable blue-chip stock is usually rather low.\n",
    "\n",
    "As a downside, it calculates all uncertainty as risk, even when it’s in the investor's favor—such as above average returns.\n",
    "\n",
    "Standard deviation is an especially useful tool in investing and trading strategies as it helps measure market and security\n",
    "volatility—and predict performance trends. As it relates to investing, for example, one can expect an index fund to have a \n",
    "low standard deviation versus its benchmark index, as the fund's goal is to replicate the index.\n",
    "\n",
    "On the other hand, one can expect aggressive growth funds to have a high standard deviation from relative stock indices, as\n",
    "their portfolio managers make aggressive bets to generate higher-than-average returns.\n",
    "\n",
    "#### Properties of Standard Deviations\n",
    "1) The standard deviation can never be a negative number, due to the way it’s calculated and the fact that it measures a\n",
    "distance (distances are never negative numbers).\n",
    "\n",
    "2)The smallest possible value for the standard deviation is 0, and that happens only in contrived situations where every\n",
    "single number in the data set is exactly the same (no deviation).\n",
    "\n",
    "3) The standard deviation is affected by outliers (extremely low or extremely high numbers in the data set). That’s because\n",
    "the standard deviation is based on the distance from the mean. And remember, the mean is also affected by outliers.\n",
    "\n",
    "4) The standard deviation has the same units as the original data"
   ]
  },
  {
   "cell_type": "code",
   "execution_count": 23,
   "metadata": {},
   "outputs": [],
   "source": [
    "# Importing the required library for fetching and manipulating the data in code\n",
    "import pandas as pd\n",
    "import numpy as np"
   ]
  },
  {
   "cell_type": "code",
   "execution_count": 24,
   "metadata": {},
   "outputs": [
    {
     "data": {
      "text/html": [
       "<div>\n",
       "<style scoped>\n",
       "    .dataframe tbody tr th:only-of-type {\n",
       "        vertical-align: middle;\n",
       "    }\n",
       "\n",
       "    .dataframe tbody tr th {\n",
       "        vertical-align: top;\n",
       "    }\n",
       "\n",
       "    .dataframe thead th {\n",
       "        text-align: right;\n",
       "    }\n",
       "</style>\n",
       "<table border=\"1\" class=\"dataframe\">\n",
       "  <thead>\n",
       "    <tr style=\"text-align: right;\">\n",
       "      <th></th>\n",
       "      <th>XLE</th>\n",
       "      <th>XLI</th>\n",
       "    </tr>\n",
       "    <tr>\n",
       "      <th>Date</th>\n",
       "      <th></th>\n",
       "      <th></th>\n",
       "    </tr>\n",
       "  </thead>\n",
       "  <tbody>\n",
       "    <tr>\n",
       "      <th>2017-11-27</th>\n",
       "      <td>67.190002</td>\n",
       "      <td>71.529999</td>\n",
       "    </tr>\n",
       "    <tr>\n",
       "      <th>2017-11-28</th>\n",
       "      <td>67.709999</td>\n",
       "      <td>72.620003</td>\n",
       "    </tr>\n",
       "    <tr>\n",
       "      <th>2017-11-29</th>\n",
       "      <td>68.080002</td>\n",
       "      <td>73.260002</td>\n",
       "    </tr>\n",
       "    <tr>\n",
       "      <th>2017-11-30</th>\n",
       "      <td>69.099998</td>\n",
       "      <td>74.510002</td>\n",
       "    </tr>\n",
       "    <tr>\n",
       "      <th>2017-12-01</th>\n",
       "      <td>69.680000</td>\n",
       "      <td>73.589996</td>\n",
       "    </tr>\n",
       "  </tbody>\n",
       "</table>\n",
       "</div>"
      ],
      "text/plain": [
       "                  XLE        XLI\n",
       "Date                            \n",
       "2017-11-27  67.190002  71.529999\n",
       "2017-11-28  67.709999  72.620003\n",
       "2017-11-29  68.080002  73.260002\n",
       "2017-11-30  69.099998  74.510002\n",
       "2017-12-01  69.680000  73.589996"
      ]
     },
     "execution_count": 24,
     "metadata": {},
     "output_type": "execute_result"
    }
   ],
   "source": [
    "XLE_data= pd.read_excel ('./GWP_PTAP_Data.xlsx', sheet_name='XLE', header=1)\n",
    "XLI_data= pd.read_excel ('./GWP_PTAP_Data.xlsx', sheet_name='XLI',header=1)\n",
    "df = pd.merge(XLE_data, XLI_data, on=\"Date\")\n",
    "df.columns = [\"Date\", \"XLE\", \"XLI\"]\n",
    "df = df.set_index(\"Date\")\n",
    "df.head()"
   ]
  },
  {
   "cell_type": "code",
   "execution_count": 25,
   "metadata": {},
   "outputs": [
    {
     "name": "stdout",
     "output_type": "stream",
     "text": [
      "Standard Deviation of the Daily Returns of XLE: 0.0127\n",
      "Standard Deviation of the Daily Returns of XLI: 0.0107\n"
     ]
    }
   ],
   "source": [
    "daily_returns = df.pct_change()\n",
    "std_daily_returns = daily_returns.std()\n",
    "\n",
    "print(\"Standard Deviation of the Daily Returns of XLE:\", round(std_daily_returns[\"XLE\"],4))\n",
    "print(\"Standard Deviation of the Daily Returns of XLI:\", round(std_daily_returns[\"XLI\"],4))"
   ]
  },
  {
   "cell_type": "code",
   "execution_count": 26,
   "metadata": {},
   "outputs": [
    {
     "name": "stdout",
     "output_type": "stream",
     "text": [
      "Annualized standard deviation (prior year) of XLE: 0.2023\n",
      "Annualized standard deviation (prior year) of XLI: 0.1703\n"
     ]
    }
   ],
   "source": [
    "# Annualized standard deviation of returns for the prior year.\n",
    "sigma_annualized = std_daily_returns*np.sqrt(252)\n",
    "print(\"Annualized standard deviation (prior year) of XLE:\", round(sigma_annualized[\"XLE\"],4))\n",
    "print(\"Annualized standard deviation (prior year) of XLI:\", round(sigma_annualized[\"XLI\"],4))"
   ]
  },
  {
   "cell_type": "markdown",
   "metadata": {},
   "source": [
    "## c) Calculate the correlation (to two (2) decimal places) between each sector’s return."
   ]
  },
  {
   "cell_type": "markdown",
   "metadata": {},
   "source": [
    "Correlation, in the finance and investment industries, is a statistic that measures the degree to which two securities \n",
    "move in relation to each other. Correlations are used in advanced portfolio management, computed as the correlation \n",
    "coefficient, which has a value that must fall between -1.0 and +1.0.\n",
    "\n",
    "In finance, the correlation can measure the movement of a stock with that of a benchmark index, such as the Beta.\n",
    "\n",
    "Correlation measures association, but does not tell you if x causes y or vice versa, or if the association is caused by \n",
    "some third (perhaps unseen) factor."
   ]
  },
  {
   "cell_type": "code",
   "execution_count": 27,
   "metadata": {},
   "outputs": [
    {
     "name": "stdout",
     "output_type": "stream",
     "text": [
      "Correlation among the XLE and XLI sector returns is: 0.66\n"
     ]
    }
   ],
   "source": [
    "correlation_XLE_XLI = daily_returns.corr()\n",
    "print(\"Correlation among the XLE and XLI sector returns is:\", round(correlation_XLE_XLI[\"XLE\"][\"XLI\"],2))"
   ]
  },
  {
   "cell_type": "markdown",
   "metadata": {},
   "source": [
    "We can see that XLE and XLI are positively correlated and that the correlation is 0.66. This suggests a high level \n",
    "of correlation, e.g. a value above 0.5 and close to 1.0."
   ]
  },
  {
   "cell_type": "markdown",
   "metadata": {},
   "source": [
    "## Bibliography:\n",
    "\n",
    "Kenton, Will. \"Expected Returns\", Investopedia WebPage, 2019. Retrieved from: https://www.investopedia.com/terms/e/expectedreturn.asp\n",
    "\n",
    "Kenton, Will. \"Capital Asset Pricing Model\", Investopedia WebPage, 2019. Retrieved from: https://www.investopedia.com/terms/c/capm.asp\n",
    "        \n",
    "Kenton, Will. \"Standard Deviation\", Investopedia WebPage, 2019. Retrieved from: https://www.investopedia.com/terms/s/standarddeviation.asp\n",
    "        \n",
    "http://www.yourarticlelibrary.com/statistics-2/correlation-meaning-types-and-its-computation-statistics/92001"
   ]
  },
  {
   "cell_type": "code",
   "execution_count": null,
   "metadata": {},
   "outputs": [],
   "source": []
  }
 ],
 "metadata": {
  "kernelspec": {
   "display_name": "Python 3",
   "language": "python",
   "name": "python3"
  },
  "language_info": {
   "codemirror_mode": {
    "name": "ipython",
    "version": 3
   },
   "file_extension": ".py",
   "mimetype": "text/x-python",
   "name": "python",
   "nbconvert_exporter": "python",
   "pygments_lexer": "ipython3",
   "version": "3.7.4"
  }
 },
 "nbformat": 4,
 "nbformat_minor": 2
}
